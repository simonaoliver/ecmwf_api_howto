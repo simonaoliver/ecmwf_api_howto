{
 "cells": [
  {
   "cell_type": "code",
   "execution_count": 29,
   "metadata": {
    "collapsed": false
   },
   "outputs": [
    {
     "name": "stdout",
     "output_type": "stream",
     "text": [
      "2017-02-01 17:54:39 ECMWF API python library 1.4.1\n",
      "2017-02-01 17:54:39 ECMWF API at https://api.ecmwf.int/v1\n",
      "2017-02-01 17:54:41 Welcome Simon Oliver\n",
      "2017-02-01 17:54:43 In case of problems, please check https://software.ecmwf.int/wiki/display/WEBAPI/Troubleshooting or contact calldesk@ecmwf.int\n",
      "2017-02-01 17:54:43 \n",
      "2017-02-01 17:54:44 Request submitted\n",
      "2017-02-01 17:54:44 Request id: 58918634f7414d4d10e7d15f\n",
      "2017-02-01 17:54:44 Request is queued\n",
      "Calling '['nice', 'mars', '/tmp/tmp-_mars60ohCi.req']'\n",
      "mars - WARN -\n",
      "mars - WARN - From 9 February 2016 10AM (UTC) MARS uses versions of\n",
      "mars - WARN - libemos newer than 4.3.0. For more details, see\n",
      "mars - WARN - https://software.ecmwf.int/wiki/display/EMOS/Bug+fix+implemented+in+EMOSLIB+4.3.x\n",
      "mars - WARN -\n",
      "PPDIR is /var/tmp/ppdir/x86_64\n",
      "mars - INFO   - 20170201.065445 - Welcome to MARS with grib_api and ODB\n",
      "mars - INFO   - 20170201.065445 - MARS Client build stamp: 20160816125130\n",
      "mars - INFO   - 20170201.065445 - MARS Client version: 6.15.7\n",
      "mars - INFO   - 20170201.065445 - EMOSLIB version: 443\n",
      "mars - INFO   - 20170201.065445 - Using grib_api version 1.17.0\n",
      "mars - INFO   - 20170201.065445 - Using odb_api version: 0.11.0 (file format version: 0.5)\n",
      "mars - INFO   - 20170201.065445 - Maximum retrieval size is 20.00 G\n",
      "retrieve,class=ei,date=2014-07-01/to/2014-07-31,expect=any,expver=0001,grid=0.125/0.125,levelist=1/2/3/5/7/10/20/30/50/70/100/125/150/175/200/225/250/300/350/400/450/500/550/600/650/700/750/775/800/825/850/875/900/925/950/975/1000,levtype=pl,padding=0,param=129.128/130.128/157.128,step=0,stream=oper,time=00:00:00,type=anmars - WARN   - 20170201.065445 - For full resolution grid, it is recommended to use RESOL=AV to prevent any truncation before transformation\n",
      "mars - INFO   - 20170201.065445 - Automatic split by date is on\n",
      "\n",
      "mars - INFO   - 20170201.065445 - Processing request 1\n",
      "\n",
      "RETRIEVE,\n",
      "    CLASS      = EI,\n",
      "    TYPE       = AN,\n",
      "    STREAM     = OPER,\n",
      "    EXPVER     = 0001,\n",
      "    REPRES     = SH,\n",
      "    LEVTYPE    = PL,\n",
      "    LEVELIST   = 1/2/3/5/7/10/20/30/50/70/100/125/150/175/200/225/250/300/350/400/450/500/550/600/650/700/750/775/800/825/850/875/900/925/950/975/1000,\n",
      "    PARAM      = 129.128/130.128/157.128,\n",
      "    TIME       = 0000,\n",
      "    STEP       = 0,\n",
      "    DOMAIN     = G,\n",
      "    RESOL      = AUTO,\n",
      "    GRID       = 0.125/0.125,\n",
      "    PADDING    = 0,\n",
      "    EXPECT     = ANY,\n",
      "    DATE       = 20140701/20140702/20140703/20140704/20140705/20140706/20140707/20140708/20140709/20140710/20140711/20140712/20140713/20140714/20140715/20140716/20140717/20140718/20140719/20140720/20140721/20140722/20140723/20140724/20140725/20140726/20140727/20140728/20140729/20140730/20140731\n",
      "\n",
      "mars - INFO   - 20170201.065445 - Web API request id: 58918634f7414d4d10e7d15f\n",
      "mars - INFO   - 20170201.065445 - Requesting any number of fields (request describes 3441)\n",
      "mars - INFO   - 20170201.065445 - Calling mars on 'marser', callback on 60588\n",
      "mars - INFO   - 20170201.065445 - Server task is 661 [marser]\n",
      "mars - INFO   - 20170201.065445 - Request cost: 3,441 fields, 435.211 Mbytes online, nodes: mvr02 [marser]\n",
      "mars - INFO   - 20170201.065446 - Transfering 456352302 bytes\n",
      "2017-02-01 17:54:47 Request is active\n",
      "mars - WARN   - 20170201.065447 - INTFB: Resolution automatically set to    1279\n",
      "mars - WARN   - 20170201.065447 - INTFB: Automatic resolution selectn too high:\n",
      "mars - WARN   - 20170201.065447 - INTFB: Resolution reset to input resolution:  255\n",
      "mars - ERROR  - 20170201.070528 - Maximum retrieve size 20.00 G reached. Please split your request.\n",
      "mars - WARN   - 20170201.070528 - Closing connection with 892888 bytes outstanding\n",
      "mars - ERROR  - 20170201.070528 - Mars server task finished in error\n",
      "mars - ERROR  - 20170201.070528 - Double buffer error: Assertion failed: length == buffers_[i].length_ in run, line 292 of /users/maxtest/git/eckit/src/eckit/io/DblBuffer.cc(RemoteException from Connector[dhs1434:9701]) [marser]\n",
      "mars - ERROR  - 20170201.070528 - Error code is -2\n",
      "mars - WARN   - 20170201.070528 - Got 343225736 out of 456352302 bytes\n",
      "mars - INFO   - 20170201.070528 - 2588 fields have been interpolated\n",
      "mars - ERROR  - 20170201.070528 - Request failed\n",
      "mars - INFO   - 20170201.070528 - Request time:  wall: 10 min 43 sec  cpu: 10 min 32 sec\n",
      "mars - INFO   - 20170201.070528 -   Read from network: 327.33 Mbyte(s) in 1 sec  [224.36 Mbyte/sec]\n",
      "mars - INFO   - 20170201.070528 -   Visiting marser: wall: 10 min 43 sec\n",
      "mars - INFO   - 20170201.070528 -   Post-processing: wall: 9 min 53 sec cpu: 9 min 51 sec\n",
      "mars - INFO   - 20170201.070528 -   Writing to target file: 20.01 Gbyte(s) in 33 sec  [625.07 Mbyte/sec] cpu: 25 sec\n",
      "mars - ERROR  - 20170201.070528 - Some errors reported\n"
     ]
    },
    {
     "ename": "APIException",
     "evalue": "'ecmwf.API error 1: ERROR 1 (MARS_REQUEST_TOO_LARGE): Maximum retrieve size 20.00 G reached. Please split your request.'",
     "output_type": "error",
     "traceback": [
      "\u001b[0;31m---------------------------------------------------------------------------\u001b[0m",
      "\u001b[0;31mAPIException\u001b[0m                              Traceback (most recent call last)",
      "\u001b[0;32m<ipython-input-29-fceeb81fbf90>\u001b[0m in \u001b[0;36m<module>\u001b[0;34m()\u001b[0m\n\u001b[1;32m     17\u001b[0m     \u001b[0;34m\"type\"\u001b[0m\u001b[0;34m:\u001b[0m \u001b[0;34m\"an\"\u001b[0m\u001b[0;34m,\u001b[0m\u001b[0;34m\u001b[0m\u001b[0m\n\u001b[1;32m     18\u001b[0m     \u001b[0;34m\"format\"\u001b[0m \u001b[0;34m:\u001b[0m \u001b[0;34m\"netcdf\"\u001b[0m\u001b[0;34m,\u001b[0m\u001b[0;34m\u001b[0m\u001b[0m\n\u001b[0;32m---> 19\u001b[0;31m     \u001b[0;34m\"target\"\u001b[0m\u001b[0;34m:\u001b[0m \u001b[0;34m\"/g/data/v10/tmp/interim_pressure_2014-07-01to2014-07-31_00061218.nc\"\u001b[0m\u001b[0;34m\u001b[0m\u001b[0m\n\u001b[0m\u001b[1;32m     20\u001b[0m })\n",
      "\u001b[0;32m/g/data/v10/public/modules/agdc-py3-env/20161201/envs/agdc/lib/python3.5/site-packages/ecmwfapi/api.py\u001b[0m in \u001b[0;36mretrieve\u001b[0;34m(self, req)\u001b[0m\n\u001b[1;32m    488\u001b[0m         \u001b[0mdataset\u001b[0m \u001b[0;34m=\u001b[0m \u001b[0mreq\u001b[0m\u001b[0;34m.\u001b[0m\u001b[0mget\u001b[0m\u001b[0;34m(\u001b[0m\u001b[0;34m\"dataset\"\u001b[0m\u001b[0;34m)\u001b[0m\u001b[0;34m\u001b[0m\u001b[0m\n\u001b[1;32m    489\u001b[0m         \u001b[0mc\u001b[0m \u001b[0;34m=\u001b[0m \u001b[0mAPIRequest\u001b[0m\u001b[0;34m(\u001b[0m\u001b[0mself\u001b[0m\u001b[0;34m.\u001b[0m\u001b[0murl\u001b[0m\u001b[0;34m,\u001b[0m \u001b[0;34m\"datasets/%s\"\u001b[0m \u001b[0;34m%\u001b[0m \u001b[0;34m(\u001b[0m\u001b[0mdataset\u001b[0m\u001b[0;34m,\u001b[0m\u001b[0;34m)\u001b[0m\u001b[0;34m,\u001b[0m \u001b[0mself\u001b[0m\u001b[0;34m.\u001b[0m\u001b[0memail\u001b[0m\u001b[0;34m,\u001b[0m \u001b[0mself\u001b[0m\u001b[0;34m.\u001b[0m\u001b[0mkey\u001b[0m\u001b[0;34m,\u001b[0m \u001b[0mself\u001b[0m\u001b[0;34m.\u001b[0m\u001b[0mtrace\u001b[0m\u001b[0;34m,\u001b[0m \u001b[0mverbose\u001b[0m\u001b[0;34m=\u001b[0m\u001b[0mself\u001b[0m\u001b[0;34m.\u001b[0m\u001b[0mverbose\u001b[0m\u001b[0;34m)\u001b[0m\u001b[0;34m\u001b[0m\u001b[0m\n\u001b[0;32m--> 490\u001b[0;31m         \u001b[0mc\u001b[0m\u001b[0;34m.\u001b[0m\u001b[0mexecute\u001b[0m\u001b[0;34m(\u001b[0m\u001b[0mreq\u001b[0m\u001b[0;34m,\u001b[0m \u001b[0mtarget\u001b[0m\u001b[0;34m)\u001b[0m\u001b[0;34m\u001b[0m\u001b[0m\n\u001b[0m\u001b[1;32m    491\u001b[0m \u001b[0;34m\u001b[0m\u001b[0m\n\u001b[1;32m    492\u001b[0m \u001b[0;31m###############################################################################\u001b[0m\u001b[0;34m\u001b[0m\u001b[0;34m\u001b[0m\u001b[0m\n",
      "\u001b[0;32m/g/data/v10/public/modules/agdc-py3-env/20161201/envs/agdc/lib/python3.5/site-packages/ecmwfapi/api.py\u001b[0m in \u001b[0;36mexecute\u001b[0;34m(self, request, target)\u001b[0m\n\u001b[1;32m    437\u001b[0m                 \u001b[0mstatus\u001b[0m \u001b[0;34m=\u001b[0m \u001b[0mself\u001b[0m\u001b[0;34m.\u001b[0m\u001b[0mconnection\u001b[0m\u001b[0;34m.\u001b[0m\u001b[0mstatus\u001b[0m\u001b[0;34m\u001b[0m\u001b[0m\n\u001b[1;32m    438\u001b[0m                 \u001b[0mself\u001b[0m\u001b[0;34m.\u001b[0m\u001b[0mlog\u001b[0m\u001b[0;34m(\u001b[0m\u001b[0;34m\"Request is %s\"\u001b[0m \u001b[0;34m%\u001b[0m \u001b[0;34m(\u001b[0m\u001b[0mstatus\u001b[0m\u001b[0;34m,\u001b[0m \u001b[0;34m)\u001b[0m\u001b[0;34m)\u001b[0m\u001b[0;34m\u001b[0m\u001b[0m\n\u001b[0;32m--> 439\u001b[0;31m             \u001b[0mself\u001b[0m\u001b[0;34m.\u001b[0m\u001b[0mconnection\u001b[0m\u001b[0;34m.\u001b[0m\u001b[0mwait\u001b[0m\u001b[0;34m(\u001b[0m\u001b[0;34m)\u001b[0m\u001b[0;34m\u001b[0m\u001b[0m\n\u001b[0m\u001b[1;32m    440\u001b[0m \u001b[0;34m\u001b[0m\u001b[0m\n\u001b[1;32m    441\u001b[0m         \u001b[0;32mif\u001b[0m \u001b[0mself\u001b[0m\u001b[0;34m.\u001b[0m\u001b[0mconnection\u001b[0m\u001b[0;34m.\u001b[0m\u001b[0mstatus\u001b[0m \u001b[0;34m!=\u001b[0m \u001b[0mstatus\u001b[0m\u001b[0;34m:\u001b[0m\u001b[0;34m\u001b[0m\u001b[0m\n",
      "\u001b[0;32m/g/data/v10/public/modules/agdc-py3-env/20161201/envs/agdc/lib/python3.5/site-packages/ecmwfapi/api.py\u001b[0m in \u001b[0;36mwait\u001b[0;34m(self)\u001b[0m\n\u001b[1;32m    338\u001b[0m             \u001b[0mprint\u001b[0m\u001b[0;34m(\u001b[0m\u001b[0;34m\"Sleeping %s second(s)\"\u001b[0m \u001b[0;34m%\u001b[0m \u001b[0;34m(\u001b[0m\u001b[0mself\u001b[0m\u001b[0;34m.\u001b[0m\u001b[0mretry\u001b[0m\u001b[0;34m)\u001b[0m\u001b[0;34m)\u001b[0m\u001b[0;34m\u001b[0m\u001b[0m\n\u001b[1;32m    339\u001b[0m         \u001b[0mtime\u001b[0m\u001b[0;34m.\u001b[0m\u001b[0msleep\u001b[0m\u001b[0;34m(\u001b[0m\u001b[0mself\u001b[0m\u001b[0;34m.\u001b[0m\u001b[0mretry\u001b[0m\u001b[0;34m)\u001b[0m\u001b[0;34m\u001b[0m\u001b[0m\n\u001b[0;32m--> 340\u001b[0;31m         \u001b[0mself\u001b[0m\u001b[0;34m.\u001b[0m\u001b[0mcall\u001b[0m\u001b[0;34m(\u001b[0m\u001b[0mself\u001b[0m\u001b[0;34m.\u001b[0m\u001b[0mlocation\u001b[0m\u001b[0;34m,\u001b[0m \u001b[0;32mNone\u001b[0m\u001b[0;34m,\u001b[0m \u001b[0;34m\"GET\"\u001b[0m\u001b[0;34m)\u001b[0m\u001b[0;34m\u001b[0m\u001b[0m\n\u001b[0m\u001b[1;32m    341\u001b[0m \u001b[0;34m\u001b[0m\u001b[0m\n\u001b[1;32m    342\u001b[0m     \u001b[0;32mdef\u001b[0m \u001b[0mready\u001b[0m\u001b[0;34m(\u001b[0m\u001b[0mself\u001b[0m\u001b[0;34m)\u001b[0m\u001b[0;34m:\u001b[0m\u001b[0;34m\u001b[0m\u001b[0m\n",
      "\u001b[0;32m/g/data/v10/public/modules/agdc-py3-env/20161201/envs/agdc/lib/python3.5/site-packages/ecmwfapi/api.py\u001b[0m in \u001b[0;36mwrapped\u001b[0;34m(self, *args, **kwargs)\u001b[0m\n\u001b[1;32m    134\u001b[0m         \u001b[0;32mwhile\u001b[0m \u001b[0mtries\u001b[0m \u001b[0;34m>\u001b[0m \u001b[0;36m0\u001b[0m\u001b[0;34m:\u001b[0m\u001b[0;34m\u001b[0m\u001b[0m\n\u001b[1;32m    135\u001b[0m             \u001b[0;32mtry\u001b[0m\u001b[0;34m:\u001b[0m\u001b[0;34m\u001b[0m\u001b[0m\n\u001b[0;32m--> 136\u001b[0;31m                 \u001b[0;32mreturn\u001b[0m \u001b[0mfunc\u001b[0m\u001b[0;34m(\u001b[0m\u001b[0mself\u001b[0m\u001b[0;34m,\u001b[0m \u001b[0;34m*\u001b[0m\u001b[0margs\u001b[0m\u001b[0;34m,\u001b[0m \u001b[0;34m**\u001b[0m\u001b[0mkwargs\u001b[0m\u001b[0;34m)\u001b[0m\u001b[0;34m\u001b[0m\u001b[0m\n\u001b[0m\u001b[1;32m    137\u001b[0m             \u001b[0;32mexcept\u001b[0m \u001b[0mHTTPError\u001b[0m \u001b[0;32mas\u001b[0m \u001b[0me\u001b[0m\u001b[0;34m:\u001b[0m\u001b[0;34m\u001b[0m\u001b[0m\n\u001b[1;32m    138\u001b[0m                 \u001b[0;32mif\u001b[0m \u001b[0mself\u001b[0m\u001b[0;34m.\u001b[0m\u001b[0mverbose\u001b[0m\u001b[0;34m:\u001b[0m\u001b[0;34m\u001b[0m\u001b[0m\n",
      "\u001b[0;32m/g/data/v10/public/modules/agdc-py3-env/20161201/envs/agdc/lib/python3.5/site-packages/ecmwfapi/api.py\u001b[0m in \u001b[0;36mcall\u001b[0;34m(self, url, payload, method)\u001b[0m\n\u001b[1;32m    317\u001b[0m         \u001b[0;32mif\u001b[0m \u001b[0;34m\"error\"\u001b[0m \u001b[0;32min\u001b[0m \u001b[0mself\u001b[0m\u001b[0;34m.\u001b[0m\u001b[0mlast\u001b[0m\u001b[0;34m:\u001b[0m\u001b[0;34m\u001b[0m\u001b[0m\n\u001b[1;32m    318\u001b[0m             \u001b[0;31m#self.done   = True\u001b[0m\u001b[0;34m\u001b[0m\u001b[0;34m\u001b[0m\u001b[0m\n\u001b[0;32m--> 319\u001b[0;31m             \u001b[0;32mraise\u001b[0m \u001b[0mAPIException\u001b[0m\u001b[0;34m(\u001b[0m\u001b[0;34m\"ecmwf.API error 1: %s\"\u001b[0m \u001b[0;34m%\u001b[0m \u001b[0;34m(\u001b[0m\u001b[0mself\u001b[0m\u001b[0;34m.\u001b[0m\u001b[0mlast\u001b[0m\u001b[0;34m[\u001b[0m\u001b[0;34m\"error\"\u001b[0m\u001b[0;34m]\u001b[0m\u001b[0;34m,\u001b[0m\u001b[0;34m)\u001b[0m\u001b[0;34m)\u001b[0m\u001b[0;34m\u001b[0m\u001b[0m\n\u001b[0m\u001b[1;32m    320\u001b[0m \u001b[0;34m\u001b[0m\u001b[0m\n\u001b[1;32m    321\u001b[0m         \u001b[0;32mif\u001b[0m \u001b[0merror\u001b[0m\u001b[0;34m:\u001b[0m\u001b[0;34m\u001b[0m\u001b[0m\n",
      "\u001b[0;31mAPIException\u001b[0m: 'ecmwf.API error 1: ERROR 1 (MARS_REQUEST_TOO_LARGE): Maximum retrieve size 20.00 G reached. Please split your request.'"
     ]
    }
   ],
   "source": [
    "#!/usr/bin/env python\n",
    "# pressure\n",
    "from ecmwfapi import ECMWFDataServer\n",
    "server = ECMWFDataServer()\n",
    "server.retrieve({\n",
    "    \"class\": \"ei\",\n",
    "    \"dataset\": \"interim\",\n",
    "    \"date\": \"2014-07-01/to/2014-07-31\",\n",
    "    \"expver\": \"1\",\n",
    "    \"grid\": \"0.125/0.125\",\n",
    "    \"levelist\": \"1/2/3/5/7/10/20/30/50/70/100/125/150/175/200/225/250/300/350/400/450/500/550/600/650/700/750/775/800/825/850/875/900/925/950/975/1000\",\n",
    "    \"levtype\": \"pl\",\n",
    "    \"param\": \"129.128/130.128/157.128\",\n",
    "    \"step\": \"0\",\n",
    "    \"stream\": \"oper\",\n",
    "    \"time\": \"00:00:00\",\n",
    "    \"type\": \"an\",\n",
    "    \"format\" : \"netcdf\",\n",
    "    \"target\": \"/g/data/v10/tmp/interim_pressure_2014-07-01to2014-07-31_00061218.nc\"\n",
    "})"
   ]
  },
  {
   "cell_type": "code",
   "execution_count": 28,
   "metadata": {
    "collapsed": false
   },
   "outputs": [
    {
     "name": "stdout",
     "output_type": "stream",
     "text": [
      "2017-02-01 17:05:02 ECMWF API python library 1.4.1\n",
      "2017-02-01 17:05:02 ECMWF API at https://api.ecmwf.int/v1\n",
      "2017-02-01 17:05:03 Welcome Simon Oliver\n",
      "2017-02-01 17:05:04 In case of problems, please check https://software.ecmwf.int/wiki/display/WEBAPI/Troubleshooting or contact calldesk@ecmwf.int\n",
      "2017-02-01 17:05:04 \n",
      "2017-02-01 17:05:06 Request submitted\n",
      "2017-02-01 17:05:06 Request id: 58917a911fd472cd3df7a11d\n",
      "2017-02-01 17:05:06 Request is queued\n",
      "Calling '['nice', 'mars', '/tmp/tmp-_marsGz6TC4.req']'\n",
      "mars - WARN -\n",
      "mars - WARN - From 9 February 2016 10AM (UTC) MARS uses versions of\n",
      "mars - WARN - libemos newer than 4.3.0. For more details, see\n",
      "mars - WARN - https://software.ecmwf.int/wiki/display/EMOS/Bug+fix+implemented+in+EMOSLIB+4.3.x\n",
      "mars - WARN -\n",
      "PPDIR is /var/tmp/ppdir/x86_64\n",
      "mars - INFO   - 20170201.060651 - Welcome to MARS with grib_api and ODB\n",
      "mars - INFO   - 20170201.060651 - MARS Client build stamp: 20160816125130\n",
      "mars - INFO   - 20170201.060651 - MARS Client version: 6.15.7\n",
      "mars - INFO   - 20170201.060651 - EMOSLIB version: 443\n",
      "mars - INFO   - 20170201.060651 - Using grib_api version 1.17.0\n",
      "mars - INFO   - 20170201.060651 - Using odb_api version: 0.11.0 (file format version: 0.5)\n",
      "mars - INFO   - 20170201.060651 - Maximum retrieval size is 20.00 G\n",
      "retrieve,class=ei,date=2014-07-01/to/2014-07-31,expect=any,expver=0001,grid=0.75/0.75,levtype=sfc,padding=0,param=165.128/166.128/167.128,step=0,stream=oper,time=00/06/12/18,type=anmars - WARN   - 20170201.060651 - For full resolution grid, it is recommended to use RESOL=AV to prevent any truncation before transformation\n",
      "mars - INFO   - 20170201.060651 - Automatic split by date is on\n",
      "\n",
      "mars - INFO   - 20170201.060651 - Processing request 1\n",
      "\n",
      "RETRIEVE,\n",
      "    CLASS      = EI,\n",
      "    TYPE       = AN,\n",
      "    STREAM     = OPER,\n",
      "    EXPVER     = 0001,\n",
      "    REPRES     = SH,\n",
      "    LEVTYPE    = SFC,\n",
      "    PARAM      = 165.128/166.128/167.128,\n",
      "    TIME       = 0000/0600/1200/1800,\n",
      "    STEP       = 0,\n",
      "    DOMAIN     = G,\n",
      "    RESOL      = AUTO,\n",
      "    GRID       = 0.75/0.75,\n",
      "    PADDING    = 0,\n",
      "    EXPECT     = ANY,\n",
      "    DATE       = 20140701/20140702/20140703/20140704/20140705/20140706/20140707/20140708/20140709/20140710/20140711/20140712/20140713/20140714/20140715/20140716/20140717/20140718/20140719/20140720/20140721/20140722/20140723/20140724/20140725/20140726/20140727/20140728/20140729/20140730/20140731\n",
      "\n",
      "mars - INFO   - 20170201.060651 - Web API request id: 58917a911fd472cd3df7a11d\n",
      "mars - INFO   - 20170201.060651 - Requesting any number of fields (request describes 372)\n",
      "mars - INFO   - 20170201.060651 - Calling mars on 'marser', callback on 40110\n",
      "mars - INFO   - 20170201.060651 - Server task is 978 [marser]\n",
      "mars - INFO   - 20170201.060651 - Request cost: 372 fields, 63.2535 Mbytes online, nodes: mvr02 [marser]\n",
      "mars - INFO   - 20170201.060651 - Transfering 66326112 bytes\n",
      "2017-02-01 17:06:56 Request is active\n",
      "mars - INFO   - 20170201.060703 - 372 fields retrieved from 'marser'\n",
      "mars - INFO   - 20170201.060703 - 372 fields have been interpolated\n",
      "mars - INFO   - 20170201.060703 - Request time:  wall: 12 sec  cpu: 9 sec\n",
      "mars - INFO   - 20170201.060703 -   Read from network: 63.25 Mbyte(s) in 3 sec  [23.73 Mbyte/sec]\n",
      "mars - INFO   - 20170201.060703 -   Visiting marser: wall: 12 sec\n",
      "mars - INFO   - 20170201.060703 -   Post-processing: wall: 9 sec cpu: 9 sec\n",
      "mars - INFO   - 20170201.060703 -   Writing to target file: 82.12 Mbyte(s) in < 1 sec [836.91 Mbyte/sec]\n",
      "mars - INFO   - 20170201.060703 - No errors reported\n",
      "Process '['nice', 'mars', '/tmp/tmp-_marsGz6TC4.req']' finished\n",
      "Calling '['nice', 'grib_to_netcdf', '/data/data01/scratch/_mars-atls17-95e2cf679cd58ee9b4db4dd119a05a8d-_ToMMs.grib', '-o', '/data/data01/scratch/_grib2netcdf-atls19-95e2cf679cd58ee9b4db4dd119a05a8d-ULULN9.nc', '-utime']'\n",
      "grib_to_netcdf: Version 2.0.2\n",
      "grib_to_netcdf: Processing input file '/data/data01/scratch/_mars-atls17-95e2cf679cd58ee9b4db4dd119a05a8d-_ToMMs.grib'.\n",
      "grib_to_netcdf: Found 372 GRIB fields in 1 file.\n",
      "grib_to_netcdf: Ignoring key(s): method, type, stream, refdate, hdate\n",
      "grib_to_netcdf: Creating netCDF file '/data/data01/scratch/_grib2netcdf-atls19-95e2cf679cd58ee9b4db4dd119a05a8d-ULULN9.nc'\n",
      "grib_to_netcdf: NetCDF library version: 4.3.0 of Nov 24 2016 09:46:41 $\n",
      "grib_to_netcdf: Creating large (64 bit) file format.\n",
      "grib_to_netcdf: Defining variable 'u10'.\n",
      "grib_to_netcdf: Defining variable 'v10'.\n",
      "grib_to_netcdf: Defining variable 't2m'.\n",
      "grib_to_netcdf: Done.\n",
      "Process '['nice', 'grib_to_netcdf', '/data/data01/scratch/_mars-atls17-95e2cf679cd58ee9b4db4dd119a05a8d-_ToMMs.grib', '-o', '/data/data01/scratch/_grib2netcdf-atls19-95e2cf679cd58ee9b4db4dd119a05a8d-ULULN9.nc', '-utime']' finished\n",
      "2017-02-01 17:07:09 Request is complete\n",
      "2017-02-01 17:07:09 Transfering 82.0835 Mbytes into /g/data/v10/tmp/interim_2014-07-01to2014-07-31_00061218.nc\n",
      "2017-02-01 17:07:09 From http://stream.ecmwf.int/data/atls19/data/data01/scratch/_grib2netcdf-atls19-95e2cf679cd58ee9b4db4dd119a05a8d-ULULN9.nc\n",
      "2017-02-01 17:14:01 Transfer rate 203.793 Kbytes/s\n"
     ]
    }
   ],
   "source": [
    "#!/usr/bin/env python\n",
    "from ecmwfapi import ECMWFDataServer\n",
    "    \n",
    "server = ECMWFDataServer()\n",
    "    \n",
    "server.retrieve({\n",
    "    'stream'    : \"oper\",\n",
    "    'levtype'   : \"sfc\",\n",
    "    'param'     : \"134.128/167.128/168.128\",\n",
    "    'dataset'   : \"interim\",\n",
    "    'step'      : \"0\",\n",
    "    'grid'      : \"0.125/0.125\",\n",
    "    'time'      : \"00\",\n",
    "    'date'      : \"2014-07-01/to/2014-07-31\",\n",
    "    'type'      : \"an\",\n",
    "    'class'     : \"ei\",\n",
    "    'format'    : \"netcdf\",\n",
    "    'target'    : \"/g/data/v10/tmp/interim_2014-07-01to2014-07-31_00061218.nc\"\n",
    " })"
   ]
  },
  {
   "cell_type": "code",
   "execution_count": 4,
   "metadata": {
    "collapsed": false
   },
   "outputs": [
    {
     "data": {
      "text/plain": [
       "'195e04268e093801390b6fff9850f99e'"
      ]
     },
     "execution_count": 4,
     "metadata": {},
     "output_type": "execute_result"
    }
   ],
   "source": [
    "#!/usr/bin/env python\n",
    "from ecmwfapi import ECMWFService\n",
    "  \n",
    "server = ECMWFService(\"mars\")\n",
    "server.key"
   ]
  },
  {
   "cell_type": "code",
   "execution_count": 11,
   "metadata": {
    "collapsed": false
   },
   "outputs": [
    {
     "ename": "AttributeError",
     "evalue": "'ECMWFService' object has no attribute 'retrieve'",
     "output_type": "error",
     "traceback": [
      "\u001b[0;31m---------------------------------------------------------------------------\u001b[0m",
      "\u001b[0;31mAttributeError\u001b[0m                            Traceback (most recent call last)",
      "\u001b[0;32m<ipython-input-11-e1425643128a>\u001b[0m in \u001b[0;36m<module>\u001b[0;34m()\u001b[0m\n\u001b[0;32m----> 1\u001b[0;31m server.retrieve({\n\u001b[0m\u001b[1;32m      2\u001b[0m     \u001b[0;34m\"class\"\u001b[0m\u001b[0;34m:\u001b[0m \u001b[0;34m\"s2\"\u001b[0m\u001b[0;34m,\u001b[0m\u001b[0;34m\u001b[0m\u001b[0m\n\u001b[1;32m      3\u001b[0m     \u001b[0;34m\"dataset\"\u001b[0m\u001b[0;34m:\u001b[0m \u001b[0;34m\"s2s\"\u001b[0m\u001b[0;34m,\u001b[0m\u001b[0;34m\u001b[0m\u001b[0m\n\u001b[1;32m      4\u001b[0m     \u001b[0;34m\"date\"\u001b[0m\u001b[0;34m:\u001b[0m \u001b[0;34m\"2015-01-01\"\u001b[0m\u001b[0;34m,\u001b[0m\u001b[0;34m\u001b[0m\u001b[0m\n\u001b[1;32m      5\u001b[0m     \u001b[0;34m\"expver\"\u001b[0m\u001b[0;34m:\u001b[0m \u001b[0;34m\"prod\"\u001b[0m\u001b[0;34m,\u001b[0m\u001b[0;34m\u001b[0m\u001b[0m\n",
      "\u001b[0;31mAttributeError\u001b[0m: 'ECMWFService' object has no attribute 'retrieve'"
     ]
    }
   ],
   "source": [
    "server.retrieve({\n",
    "    \"class\": \"s2\",\n",
    "    \"dataset\": \"s2s\",\n",
    "    \"date\": \"2015-01-01\",\n",
    "    \"expver\": \"prod\",\n",
    "    \"levtype\": \"sfc\",\n",
    "    \"origin\": \"ecmf\",\n",
    "    \"param\": \"165\",\n",
    "    \"step\": \"0/to/1104/by/24\",\n",
    "    \"stream\": \"enfo\",\n",
    "    \"target\": \"CHANGEME\",\n",
    "    \"time\": \"00\",\n",
    "    \"type\": \"cf\",\n",
    "})"
   ]
  },
  {
   "cell_type": "code",
   "execution_count": 9,
   "metadata": {
    "collapsed": false
   },
   "outputs": [
    {
     "name": "stdout",
     "output_type": "stream",
     "text": [
      "2017-02-01 15:30:42 ECMWF API python library 1.4.1\n",
      "2017-02-01 15:30:42 ECMWF API at https://api.ecmwf.int/v1\n",
      "2017-02-01 15:30:43 Welcome Simon Oliver\n"
     ]
    },
    {
     "ename": "APIException",
     "evalue": "\"ecmwf.API error 1: User 'simon.oliver@ga.gov.au' has no access to services/mars\"",
     "output_type": "error",
     "traceback": [
      "\u001b[0;31m---------------------------------------------------------------------------\u001b[0m",
      "\u001b[0;31mAPIException\u001b[0m                              Traceback (most recent call last)",
      "\u001b[0;32m<ipython-input-9-f39e0f8c4716>\u001b[0m in \u001b[0;36m<module>\u001b[0;34m()\u001b[0m\n\u001b[1;32m     12\u001b[0m           \u001b[0;34m'grid'\u001b[0m    \u001b[0;34m:\u001b[0m \u001b[0;34m\"2/2\"\u001b[0m\u001b[0;34m,\u001b[0m\u001b[0;34m\u001b[0m\u001b[0m\n\u001b[1;32m     13\u001b[0m           \u001b[0;34m'target'\u001b[0m  \u001b[0;34m:\u001b[0m \u001b[0;34m\"data.grib\"\u001b[0m\u001b[0;34m\u001b[0m\u001b[0m\n\u001b[0;32m---> 14\u001b[0;31m           }, \"target.grib\")\n\u001b[0m",
      "\u001b[0;32m/g/data/v10/public/modules/agdc-py3-env/20161201/envs/agdc/lib/python3.5/site-packages/ecmwfapi/api.py\u001b[0m in \u001b[0;36mexecute\u001b[0;34m(self, req, target)\u001b[0m\n\u001b[1;32m    515\u001b[0m     \u001b[0;32mdef\u001b[0m \u001b[0mexecute\u001b[0m\u001b[0;34m(\u001b[0m\u001b[0mself\u001b[0m\u001b[0;34m,\u001b[0m \u001b[0mreq\u001b[0m\u001b[0;34m,\u001b[0m \u001b[0mtarget\u001b[0m\u001b[0;34m)\u001b[0m\u001b[0;34m:\u001b[0m\u001b[0;34m\u001b[0m\u001b[0m\n\u001b[1;32m    516\u001b[0m         \u001b[0mc\u001b[0m \u001b[0;34m=\u001b[0m \u001b[0mAPIRequest\u001b[0m\u001b[0;34m(\u001b[0m\u001b[0mself\u001b[0m\u001b[0;34m.\u001b[0m\u001b[0murl\u001b[0m\u001b[0;34m,\u001b[0m \u001b[0;34m\"services/%s\"\u001b[0m \u001b[0;34m%\u001b[0m \u001b[0;34m(\u001b[0m\u001b[0mself\u001b[0m\u001b[0;34m.\u001b[0m\u001b[0mservice\u001b[0m\u001b[0;34m,\u001b[0m\u001b[0;34m)\u001b[0m\u001b[0;34m,\u001b[0m \u001b[0mself\u001b[0m\u001b[0;34m.\u001b[0m\u001b[0memail\u001b[0m\u001b[0;34m,\u001b[0m \u001b[0mself\u001b[0m\u001b[0;34m.\u001b[0m\u001b[0mkey\u001b[0m\u001b[0;34m,\u001b[0m \u001b[0mself\u001b[0m\u001b[0;34m.\u001b[0m\u001b[0mtrace\u001b[0m\u001b[0;34m,\u001b[0m \u001b[0mverbose\u001b[0m\u001b[0;34m=\u001b[0m\u001b[0mself\u001b[0m\u001b[0;34m.\u001b[0m\u001b[0mverbose\u001b[0m\u001b[0;34m,\u001b[0m \u001b[0mquiet\u001b[0m\u001b[0;34m=\u001b[0m\u001b[0mself\u001b[0m\u001b[0;34m.\u001b[0m\u001b[0mquiet\u001b[0m\u001b[0;34m)\u001b[0m\u001b[0;34m\u001b[0m\u001b[0m\n\u001b[0;32m--> 517\u001b[0;31m         \u001b[0mc\u001b[0m\u001b[0;34m.\u001b[0m\u001b[0mexecute\u001b[0m\u001b[0;34m(\u001b[0m\u001b[0mreq\u001b[0m\u001b[0;34m,\u001b[0m \u001b[0mtarget\u001b[0m\u001b[0;34m)\u001b[0m\u001b[0;34m\u001b[0m\u001b[0m\n\u001b[0m\u001b[1;32m    518\u001b[0m         \u001b[0mself\u001b[0m\u001b[0;34m.\u001b[0m\u001b[0mtrace\u001b[0m\u001b[0;34m(\u001b[0m\u001b[0;34m\"Done.\"\u001b[0m\u001b[0;34m)\u001b[0m\u001b[0;34m\u001b[0m\u001b[0m\n\u001b[1;32m    519\u001b[0m \u001b[0;34m\u001b[0m\u001b[0m\n",
      "\u001b[0;32m/g/data/v10/public/modules/agdc-py3-env/20161201/envs/agdc/lib/python3.5/site-packages/ecmwfapi/api.py\u001b[0m in \u001b[0;36mexecute\u001b[0;34m(self, request, target)\u001b[0m\n\u001b[1;32m    426\u001b[0m         \u001b[0mstatus\u001b[0m \u001b[0;34m=\u001b[0m \u001b[0;32mNone\u001b[0m\u001b[0;34m\u001b[0m\u001b[0m\n\u001b[1;32m    427\u001b[0m \u001b[0;34m\u001b[0m\u001b[0m\n\u001b[0;32m--> 428\u001b[0;31m         \u001b[0mself\u001b[0m\u001b[0;34m.\u001b[0m\u001b[0mconnection\u001b[0m\u001b[0;34m.\u001b[0m\u001b[0msubmit\u001b[0m\u001b[0;34m(\u001b[0m\u001b[0;34m\"%s/%s/requests\"\u001b[0m \u001b[0;34m%\u001b[0m \u001b[0;34m(\u001b[0m\u001b[0mself\u001b[0m\u001b[0;34m.\u001b[0m\u001b[0murl\u001b[0m\u001b[0;34m,\u001b[0m \u001b[0mself\u001b[0m\u001b[0;34m.\u001b[0m\u001b[0mservice\u001b[0m\u001b[0;34m)\u001b[0m\u001b[0;34m,\u001b[0m \u001b[0mrequest\u001b[0m\u001b[0;34m)\u001b[0m\u001b[0;34m\u001b[0m\u001b[0m\n\u001b[0m\u001b[1;32m    429\u001b[0m         \u001b[0mself\u001b[0m\u001b[0;34m.\u001b[0m\u001b[0mlog\u001b[0m\u001b[0;34m(\u001b[0m\u001b[0;34m'Request submitted'\u001b[0m\u001b[0;34m)\u001b[0m\u001b[0;34m\u001b[0m\u001b[0m\n\u001b[1;32m    430\u001b[0m         \u001b[0mself\u001b[0m\u001b[0;34m.\u001b[0m\u001b[0mlog\u001b[0m\u001b[0;34m(\u001b[0m\u001b[0;34m'Request id: '\u001b[0m \u001b[0;34m+\u001b[0m \u001b[0mself\u001b[0m\u001b[0;34m.\u001b[0m\u001b[0mconnection\u001b[0m\u001b[0;34m.\u001b[0m\u001b[0mlast\u001b[0m\u001b[0;34m[\u001b[0m\u001b[0;34m'name'\u001b[0m\u001b[0;34m]\u001b[0m\u001b[0;34m)\u001b[0m\u001b[0;34m\u001b[0m\u001b[0m\n",
      "\u001b[0;32m/g/data/v10/public/modules/agdc-py3-env/20161201/envs/agdc/lib/python3.5/site-packages/ecmwfapi/api.py\u001b[0m in \u001b[0;36msubmit\u001b[0;34m(self, url, payload)\u001b[0m\n\u001b[1;32m    326\u001b[0m \u001b[0;34m\u001b[0m\u001b[0m\n\u001b[1;32m    327\u001b[0m     \u001b[0;32mdef\u001b[0m \u001b[0msubmit\u001b[0m\u001b[0;34m(\u001b[0m\u001b[0mself\u001b[0m\u001b[0;34m,\u001b[0m \u001b[0murl\u001b[0m\u001b[0;34m,\u001b[0m \u001b[0mpayload\u001b[0m\u001b[0;34m)\u001b[0m\u001b[0;34m:\u001b[0m\u001b[0;34m\u001b[0m\u001b[0m\n\u001b[0;32m--> 328\u001b[0;31m         \u001b[0mself\u001b[0m\u001b[0;34m.\u001b[0m\u001b[0mcall\u001b[0m\u001b[0;34m(\u001b[0m\u001b[0murl\u001b[0m\u001b[0;34m,\u001b[0m \u001b[0mpayload\u001b[0m\u001b[0;34m,\u001b[0m \u001b[0;34m\"POST\"\u001b[0m\u001b[0;34m)\u001b[0m\u001b[0;34m\u001b[0m\u001b[0m\n\u001b[0m\u001b[1;32m    329\u001b[0m \u001b[0;34m\u001b[0m\u001b[0m\n\u001b[1;32m    330\u001b[0m     \u001b[0;32mdef\u001b[0m \u001b[0mPOST\u001b[0m\u001b[0;34m(\u001b[0m\u001b[0mself\u001b[0m\u001b[0;34m,\u001b[0m \u001b[0murl\u001b[0m\u001b[0;34m,\u001b[0m \u001b[0mpayload\u001b[0m\u001b[0;34m)\u001b[0m\u001b[0;34m:\u001b[0m\u001b[0;34m\u001b[0m\u001b[0m\n",
      "\u001b[0;32m/g/data/v10/public/modules/agdc-py3-env/20161201/envs/agdc/lib/python3.5/site-packages/ecmwfapi/api.py\u001b[0m in \u001b[0;36mwrapped\u001b[0;34m(self, *args, **kwargs)\u001b[0m\n\u001b[1;32m    134\u001b[0m         \u001b[0;32mwhile\u001b[0m \u001b[0mtries\u001b[0m \u001b[0;34m>\u001b[0m \u001b[0;36m0\u001b[0m\u001b[0;34m:\u001b[0m\u001b[0;34m\u001b[0m\u001b[0m\n\u001b[1;32m    135\u001b[0m             \u001b[0;32mtry\u001b[0m\u001b[0;34m:\u001b[0m\u001b[0;34m\u001b[0m\u001b[0m\n\u001b[0;32m--> 136\u001b[0;31m                 \u001b[0;32mreturn\u001b[0m \u001b[0mfunc\u001b[0m\u001b[0;34m(\u001b[0m\u001b[0mself\u001b[0m\u001b[0;34m,\u001b[0m \u001b[0;34m*\u001b[0m\u001b[0margs\u001b[0m\u001b[0;34m,\u001b[0m \u001b[0;34m**\u001b[0m\u001b[0mkwargs\u001b[0m\u001b[0;34m)\u001b[0m\u001b[0;34m\u001b[0m\u001b[0m\n\u001b[0m\u001b[1;32m    137\u001b[0m             \u001b[0;32mexcept\u001b[0m \u001b[0mHTTPError\u001b[0m \u001b[0;32mas\u001b[0m \u001b[0me\u001b[0m\u001b[0;34m:\u001b[0m\u001b[0;34m\u001b[0m\u001b[0m\n\u001b[1;32m    138\u001b[0m                 \u001b[0;32mif\u001b[0m \u001b[0mself\u001b[0m\u001b[0;34m.\u001b[0m\u001b[0mverbose\u001b[0m\u001b[0;34m:\u001b[0m\u001b[0;34m\u001b[0m\u001b[0m\n",
      "\u001b[0;32m/g/data/v10/public/modules/agdc-py3-env/20161201/envs/agdc/lib/python3.5/site-packages/ecmwfapi/api.py\u001b[0m in \u001b[0;36mcall\u001b[0;34m(self, url, payload, method)\u001b[0m\n\u001b[1;32m    317\u001b[0m         \u001b[0;32mif\u001b[0m \u001b[0;34m\"error\"\u001b[0m \u001b[0;32min\u001b[0m \u001b[0mself\u001b[0m\u001b[0;34m.\u001b[0m\u001b[0mlast\u001b[0m\u001b[0;34m:\u001b[0m\u001b[0;34m\u001b[0m\u001b[0m\n\u001b[1;32m    318\u001b[0m             \u001b[0;31m#self.done   = True\u001b[0m\u001b[0;34m\u001b[0m\u001b[0;34m\u001b[0m\u001b[0m\n\u001b[0;32m--> 319\u001b[0;31m             \u001b[0;32mraise\u001b[0m \u001b[0mAPIException\u001b[0m\u001b[0;34m(\u001b[0m\u001b[0;34m\"ecmwf.API error 1: %s\"\u001b[0m \u001b[0;34m%\u001b[0m \u001b[0;34m(\u001b[0m\u001b[0mself\u001b[0m\u001b[0;34m.\u001b[0m\u001b[0mlast\u001b[0m\u001b[0;34m[\u001b[0m\u001b[0;34m\"error\"\u001b[0m\u001b[0;34m]\u001b[0m\u001b[0;34m,\u001b[0m\u001b[0;34m)\u001b[0m\u001b[0;34m)\u001b[0m\u001b[0;34m\u001b[0m\u001b[0m\n\u001b[0m\u001b[1;32m    320\u001b[0m \u001b[0;34m\u001b[0m\u001b[0m\n\u001b[1;32m    321\u001b[0m         \u001b[0;32mif\u001b[0m \u001b[0merror\u001b[0m\u001b[0;34m:\u001b[0m\u001b[0;34m\u001b[0m\u001b[0m\n",
      "\u001b[0;31mAPIException\u001b[0m: \"ecmwf.API error 1: User 'simon.oliver@ga.gov.au' has no access to services/mars\""
     ]
    }
   ],
   "source": [
    "server.execute({\n",
    "          'dataset' : \"tigge\",\n",
    "          'step'    : \"24\",\n",
    "          'number'  : \"all\",\n",
    "          'levtype' : \"sl\",\n",
    "          'date'    : \"20071001\",\n",
    "          'time'    : \"00\",\n",
    "          'origin'  : \"all\",\n",
    "          'type'    : \"pf\",\n",
    "          'param'   : \"tp\",\n",
    "          'area'    : \"70/-130/30/-60\",\n",
    "          'grid'    : \"2/2\",\n",
    "          'target'  : \"data.grib\"\n",
    "          }, \"target.grib\")"
   ]
  },
  {
   "cell_type": "code",
   "execution_count": 6,
   "metadata": {
    "collapsed": false
   },
   "outputs": [
    {
     "name": "stdout",
     "output_type": "stream",
     "text": [
      "2017-02-01 15:28:51 ECMWF API python library 1.4.1\n",
      "2017-02-01 15:28:51 ECMWF API at https://api.ecmwf.int/v1\n",
      "2017-02-01 15:28:53 Welcome Simon Oliver\n"
     ]
    },
    {
     "ename": "APIException",
     "evalue": "\"ecmwf.API error 1: User 'simon.oliver@ga.gov.au' has no access to services/mars\"",
     "output_type": "error",
     "traceback": [
      "\u001b[0;31m---------------------------------------------------------------------------\u001b[0m",
      "\u001b[0;31mAPIException\u001b[0m                              Traceback (most recent call last)",
      "\u001b[0;32m<ipython-input-6-be240ffda802>\u001b[0m in \u001b[0;36m<module>\u001b[0;34m()\u001b[0m\n\u001b[1;32m     12\u001b[0m     \u001b[0;34m\"type\"\u001b[0m\u001b[0;34m:\u001b[0m \u001b[0;34m\"ob\"\u001b[0m\u001b[0;34m,\u001b[0m\u001b[0;34m\u001b[0m\u001b[0m\n\u001b[1;32m     13\u001b[0m     },\n\u001b[0;32m---> 14\u001b[0;31m     \"zugspitze.bufr\")\n\u001b[0m",
      "\u001b[0;32m/g/data/v10/public/modules/agdc-py3-env/20161201/envs/agdc/lib/python3.5/site-packages/ecmwfapi/api.py\u001b[0m in \u001b[0;36mexecute\u001b[0;34m(self, req, target)\u001b[0m\n\u001b[1;32m    515\u001b[0m     \u001b[0;32mdef\u001b[0m \u001b[0mexecute\u001b[0m\u001b[0;34m(\u001b[0m\u001b[0mself\u001b[0m\u001b[0;34m,\u001b[0m \u001b[0mreq\u001b[0m\u001b[0;34m,\u001b[0m \u001b[0mtarget\u001b[0m\u001b[0;34m)\u001b[0m\u001b[0;34m:\u001b[0m\u001b[0;34m\u001b[0m\u001b[0m\n\u001b[1;32m    516\u001b[0m         \u001b[0mc\u001b[0m \u001b[0;34m=\u001b[0m \u001b[0mAPIRequest\u001b[0m\u001b[0;34m(\u001b[0m\u001b[0mself\u001b[0m\u001b[0;34m.\u001b[0m\u001b[0murl\u001b[0m\u001b[0;34m,\u001b[0m \u001b[0;34m\"services/%s\"\u001b[0m \u001b[0;34m%\u001b[0m \u001b[0;34m(\u001b[0m\u001b[0mself\u001b[0m\u001b[0;34m.\u001b[0m\u001b[0mservice\u001b[0m\u001b[0;34m,\u001b[0m\u001b[0;34m)\u001b[0m\u001b[0;34m,\u001b[0m \u001b[0mself\u001b[0m\u001b[0;34m.\u001b[0m\u001b[0memail\u001b[0m\u001b[0;34m,\u001b[0m \u001b[0mself\u001b[0m\u001b[0;34m.\u001b[0m\u001b[0mkey\u001b[0m\u001b[0;34m,\u001b[0m \u001b[0mself\u001b[0m\u001b[0;34m.\u001b[0m\u001b[0mtrace\u001b[0m\u001b[0;34m,\u001b[0m \u001b[0mverbose\u001b[0m\u001b[0;34m=\u001b[0m\u001b[0mself\u001b[0m\u001b[0;34m.\u001b[0m\u001b[0mverbose\u001b[0m\u001b[0;34m,\u001b[0m \u001b[0mquiet\u001b[0m\u001b[0;34m=\u001b[0m\u001b[0mself\u001b[0m\u001b[0;34m.\u001b[0m\u001b[0mquiet\u001b[0m\u001b[0;34m)\u001b[0m\u001b[0;34m\u001b[0m\u001b[0m\n\u001b[0;32m--> 517\u001b[0;31m         \u001b[0mc\u001b[0m\u001b[0;34m.\u001b[0m\u001b[0mexecute\u001b[0m\u001b[0;34m(\u001b[0m\u001b[0mreq\u001b[0m\u001b[0;34m,\u001b[0m \u001b[0mtarget\u001b[0m\u001b[0;34m)\u001b[0m\u001b[0;34m\u001b[0m\u001b[0m\n\u001b[0m\u001b[1;32m    518\u001b[0m         \u001b[0mself\u001b[0m\u001b[0;34m.\u001b[0m\u001b[0mtrace\u001b[0m\u001b[0;34m(\u001b[0m\u001b[0;34m\"Done.\"\u001b[0m\u001b[0;34m)\u001b[0m\u001b[0;34m\u001b[0m\u001b[0m\n\u001b[1;32m    519\u001b[0m \u001b[0;34m\u001b[0m\u001b[0m\n",
      "\u001b[0;32m/g/data/v10/public/modules/agdc-py3-env/20161201/envs/agdc/lib/python3.5/site-packages/ecmwfapi/api.py\u001b[0m in \u001b[0;36mexecute\u001b[0;34m(self, request, target)\u001b[0m\n\u001b[1;32m    426\u001b[0m         \u001b[0mstatus\u001b[0m \u001b[0;34m=\u001b[0m \u001b[0;32mNone\u001b[0m\u001b[0;34m\u001b[0m\u001b[0m\n\u001b[1;32m    427\u001b[0m \u001b[0;34m\u001b[0m\u001b[0m\n\u001b[0;32m--> 428\u001b[0;31m         \u001b[0mself\u001b[0m\u001b[0;34m.\u001b[0m\u001b[0mconnection\u001b[0m\u001b[0;34m.\u001b[0m\u001b[0msubmit\u001b[0m\u001b[0;34m(\u001b[0m\u001b[0;34m\"%s/%s/requests\"\u001b[0m \u001b[0;34m%\u001b[0m \u001b[0;34m(\u001b[0m\u001b[0mself\u001b[0m\u001b[0;34m.\u001b[0m\u001b[0murl\u001b[0m\u001b[0;34m,\u001b[0m \u001b[0mself\u001b[0m\u001b[0;34m.\u001b[0m\u001b[0mservice\u001b[0m\u001b[0;34m)\u001b[0m\u001b[0;34m,\u001b[0m \u001b[0mrequest\u001b[0m\u001b[0;34m)\u001b[0m\u001b[0;34m\u001b[0m\u001b[0m\n\u001b[0m\u001b[1;32m    429\u001b[0m         \u001b[0mself\u001b[0m\u001b[0;34m.\u001b[0m\u001b[0mlog\u001b[0m\u001b[0;34m(\u001b[0m\u001b[0;34m'Request submitted'\u001b[0m\u001b[0;34m)\u001b[0m\u001b[0;34m\u001b[0m\u001b[0m\n\u001b[1;32m    430\u001b[0m         \u001b[0mself\u001b[0m\u001b[0;34m.\u001b[0m\u001b[0mlog\u001b[0m\u001b[0;34m(\u001b[0m\u001b[0;34m'Request id: '\u001b[0m \u001b[0;34m+\u001b[0m \u001b[0mself\u001b[0m\u001b[0;34m.\u001b[0m\u001b[0mconnection\u001b[0m\u001b[0;34m.\u001b[0m\u001b[0mlast\u001b[0m\u001b[0;34m[\u001b[0m\u001b[0;34m'name'\u001b[0m\u001b[0;34m]\u001b[0m\u001b[0;34m)\u001b[0m\u001b[0;34m\u001b[0m\u001b[0m\n",
      "\u001b[0;32m/g/data/v10/public/modules/agdc-py3-env/20161201/envs/agdc/lib/python3.5/site-packages/ecmwfapi/api.py\u001b[0m in \u001b[0;36msubmit\u001b[0;34m(self, url, payload)\u001b[0m\n\u001b[1;32m    326\u001b[0m \u001b[0;34m\u001b[0m\u001b[0m\n\u001b[1;32m    327\u001b[0m     \u001b[0;32mdef\u001b[0m \u001b[0msubmit\u001b[0m\u001b[0;34m(\u001b[0m\u001b[0mself\u001b[0m\u001b[0;34m,\u001b[0m \u001b[0murl\u001b[0m\u001b[0;34m,\u001b[0m \u001b[0mpayload\u001b[0m\u001b[0;34m)\u001b[0m\u001b[0;34m:\u001b[0m\u001b[0;34m\u001b[0m\u001b[0m\n\u001b[0;32m--> 328\u001b[0;31m         \u001b[0mself\u001b[0m\u001b[0;34m.\u001b[0m\u001b[0mcall\u001b[0m\u001b[0;34m(\u001b[0m\u001b[0murl\u001b[0m\u001b[0;34m,\u001b[0m \u001b[0mpayload\u001b[0m\u001b[0;34m,\u001b[0m \u001b[0;34m\"POST\"\u001b[0m\u001b[0;34m)\u001b[0m\u001b[0;34m\u001b[0m\u001b[0m\n\u001b[0m\u001b[1;32m    329\u001b[0m \u001b[0;34m\u001b[0m\u001b[0m\n\u001b[1;32m    330\u001b[0m     \u001b[0;32mdef\u001b[0m \u001b[0mPOST\u001b[0m\u001b[0;34m(\u001b[0m\u001b[0mself\u001b[0m\u001b[0;34m,\u001b[0m \u001b[0murl\u001b[0m\u001b[0;34m,\u001b[0m \u001b[0mpayload\u001b[0m\u001b[0;34m)\u001b[0m\u001b[0;34m:\u001b[0m\u001b[0;34m\u001b[0m\u001b[0m\n",
      "\u001b[0;32m/g/data/v10/public/modules/agdc-py3-env/20161201/envs/agdc/lib/python3.5/site-packages/ecmwfapi/api.py\u001b[0m in \u001b[0;36mwrapped\u001b[0;34m(self, *args, **kwargs)\u001b[0m\n\u001b[1;32m    134\u001b[0m         \u001b[0;32mwhile\u001b[0m \u001b[0mtries\u001b[0m \u001b[0;34m>\u001b[0m \u001b[0;36m0\u001b[0m\u001b[0;34m:\u001b[0m\u001b[0;34m\u001b[0m\u001b[0m\n\u001b[1;32m    135\u001b[0m             \u001b[0;32mtry\u001b[0m\u001b[0;34m:\u001b[0m\u001b[0;34m\u001b[0m\u001b[0m\n\u001b[0;32m--> 136\u001b[0;31m                 \u001b[0;32mreturn\u001b[0m \u001b[0mfunc\u001b[0m\u001b[0;34m(\u001b[0m\u001b[0mself\u001b[0m\u001b[0;34m,\u001b[0m \u001b[0;34m*\u001b[0m\u001b[0margs\u001b[0m\u001b[0;34m,\u001b[0m \u001b[0;34m**\u001b[0m\u001b[0mkwargs\u001b[0m\u001b[0;34m)\u001b[0m\u001b[0;34m\u001b[0m\u001b[0m\n\u001b[0m\u001b[1;32m    137\u001b[0m             \u001b[0;32mexcept\u001b[0m \u001b[0mHTTPError\u001b[0m \u001b[0;32mas\u001b[0m \u001b[0me\u001b[0m\u001b[0;34m:\u001b[0m\u001b[0;34m\u001b[0m\u001b[0m\n\u001b[1;32m    138\u001b[0m                 \u001b[0;32mif\u001b[0m \u001b[0mself\u001b[0m\u001b[0;34m.\u001b[0m\u001b[0mverbose\u001b[0m\u001b[0;34m:\u001b[0m\u001b[0;34m\u001b[0m\u001b[0m\n",
      "\u001b[0;32m/g/data/v10/public/modules/agdc-py3-env/20161201/envs/agdc/lib/python3.5/site-packages/ecmwfapi/api.py\u001b[0m in \u001b[0;36mcall\u001b[0;34m(self, url, payload, method)\u001b[0m\n\u001b[1;32m    317\u001b[0m         \u001b[0;32mif\u001b[0m \u001b[0;34m\"error\"\u001b[0m \u001b[0;32min\u001b[0m \u001b[0mself\u001b[0m\u001b[0;34m.\u001b[0m\u001b[0mlast\u001b[0m\u001b[0;34m:\u001b[0m\u001b[0;34m\u001b[0m\u001b[0m\n\u001b[1;32m    318\u001b[0m             \u001b[0;31m#self.done   = True\u001b[0m\u001b[0;34m\u001b[0m\u001b[0;34m\u001b[0m\u001b[0m\n\u001b[0;32m--> 319\u001b[0;31m             \u001b[0;32mraise\u001b[0m \u001b[0mAPIException\u001b[0m\u001b[0;34m(\u001b[0m\u001b[0;34m\"ecmwf.API error 1: %s\"\u001b[0m \u001b[0;34m%\u001b[0m \u001b[0;34m(\u001b[0m\u001b[0mself\u001b[0m\u001b[0;34m.\u001b[0m\u001b[0mlast\u001b[0m\u001b[0;34m[\u001b[0m\u001b[0;34m\"error\"\u001b[0m\u001b[0;34m]\u001b[0m\u001b[0;34m,\u001b[0m\u001b[0;34m)\u001b[0m\u001b[0;34m)\u001b[0m\u001b[0;34m\u001b[0m\u001b[0m\n\u001b[0m\u001b[1;32m    320\u001b[0m \u001b[0;34m\u001b[0m\u001b[0m\n\u001b[1;32m    321\u001b[0m         \u001b[0;32mif\u001b[0m \u001b[0merror\u001b[0m\u001b[0;34m:\u001b[0m\u001b[0;34m\u001b[0m\u001b[0m\n",
      "\u001b[0;31mAPIException\u001b[0m: \"ecmwf.API error 1: User 'simon.oliver@ga.gov.au' has no access to services/mars\""
     ]
    }
   ],
   "source": [
    "server.execute(\n",
    "    {\n",
    "    \"class\": \"od\",\n",
    "    \"date\": \"20100101\",\n",
    "    \"expver\": \"1\",\n",
    "    \"obstype\": \"LSD\",\n",
    "    \"stream\": \"oper\",\n",
    "    \"time\": \"00\",\n",
    "    \"range\": \"1439\",\n",
    "    \"ident\": \"10961\",\n",
    "    \"duplicates\": \"remove\",\n",
    "    \"type\": \"ob\",\n",
    "    },\n",
    "    \"zugspitze.bufr\")"
   ]
  },
  {
   "cell_type": "code",
   "execution_count": null,
   "metadata": {
    "collapsed": true
   },
   "outputs": [],
   "source": []
  }
 ],
 "metadata": {
  "anaconda-cloud": {},
  "kernelspec": {
   "display_name": "Python [conda env:agdc]",
   "language": "python",
   "name": "conda-env-agdc-py"
  },
  "language_info": {
   "codemirror_mode": {
    "name": "ipython",
    "version": 3
   },
   "file_extension": ".py",
   "mimetype": "text/x-python",
   "name": "python",
   "nbconvert_exporter": "python",
   "pygments_lexer": "ipython3",
   "version": "3.5.2"
  }
 },
 "nbformat": 4,
 "nbformat_minor": 1
}
